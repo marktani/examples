{
 "cells": [
  {
   "cell_type": "code",
   "execution_count": null,
   "metadata": {},
   "outputs": [],
   "source": [
    "import requests\n",
    "import os\n",
    "import json\n",
    "import copy\n",
    "\n",
    "# Load the rideOS API key\n",
    "rideos_api_key = os.getenv(\"RIDEOS_API_KEY\")\n",
    "rideos_auth_header = {\"X-Api-Key\": rideos_api_key}\n",
    "\n",
    "get_plan_url = 'https://api.rideos.ai/fleet/v2/GetPlan'"
   ]
  },
  {
   "cell_type": "code",
   "execution_count": null,
   "metadata": {},
   "outputs": [],
   "source": [
    "private_ride_request = {\n",
    "    \"optimizeFor\": \"RIDE_HAIL\",\n",
    "    \"etaPredictionType\": \"REAL_TIME_TRAFFIC\",\n",
    "    \"vehicles\": {\n",
    "        \"vehicle-0\": {\n",
    "            \"resourceCapacity\": 4,\n",
    "            \"vehicleId\": \"vehicle-0\",\n",
    "            \"position\": {\n",
    "                \"latitude\": 37.78861129958993,\n",
    "                \"longitude\": -122.42121679763515\n",
    "            }\n",
    "        }\n",
    "    },\n",
    "    \"tasks\": {\n",
    "        \"task-0\": {\n",
    "            \"privateRide\": True,\n",
    "            \"resourcesRequired\": 1,\n",
    "            \"pickupStep\": {\n",
    "                \"position\": {\n",
    "                    \"latitude\": 37.788710054546385,\n",
    "                    \"longitude\": -122.42034205962396\n",
    "                }\n",
    "            },\n",
    "            \"dropoffStep\": {\n",
    "                \"position\": {\n",
    "                    \"latitude\": 37.79878236715864,\n",
    "                    \"longitude\": -122.4222166856741\n",
    "                }\n",
    "            }\n",
    "        },\n",
    "        \"task-1\": {\n",
    "            \"resourcesRequired\": 1,\n",
    "            \"pickupStep\": {\n",
    "                \"position\": {\n",
    "                    \"latitude\": 37.78883349777378,\n",
    "                    \"longitude\": -122.41859090561832\n",
    "                }\n",
    "            },\n",
    "            \"dropoffStep\": {\n",
    "                \"position\": {\n",
    "                    \"latitude\": 37.79900453502346,\n",
    "                    \"longitude\": -122.42068402876973\n",
    "                }\n",
    "            }\n",
    "        }\n",
    "    }\n",
    "}\n",
    "\n",
    "pooled_ride_request = copy.deepcopy(private_ride_request)\n",
    "pooled_ride_request['tasks']['task-0']['privateRide'] = False"
   ]
  },
  {
   "cell_type": "code",
   "execution_count": null,
   "metadata": {},
   "outputs": [],
   "source": [
    "response = requests.post(get_plan_url, headers=rideos_auth_header, json=private_ride_request)\n",
    "response_dict = json.loads(response.text)\n",
    "steps = response_dict['recommendations'][0]['planRecommendation']['assignedSteps']\n",
    "for step in steps:\n",
    "    print(step)"
   ]
  },
  {
   "cell_type": "code",
   "execution_count": null,
   "metadata": {},
   "outputs": [],
   "source": [
    "\n",
    "response = requests.post(get_plan_url, headers=rideos_auth_header, json=pooled_ride_request)\n",
    "response_dict = json.loads(response.text)\n",
    "steps = response_dict['recommendations'][0]['planRecommendation']['assignedSteps']\n",
    "for step in steps:\n",
    "    print(step)"
   ]
  }
 ],
 "metadata": {
  "kernelspec": {
   "display_name": "Python 3",
   "language": "python",
   "name": "python3"
  },
  "language_info": {
   "codemirror_mode": {
    "name": "ipython",
    "version": 3
   },
   "file_extension": ".py",
   "mimetype": "text/x-python",
   "name": "python",
   "nbconvert_exporter": "python",
   "pygments_lexer": "ipython3",
   "version": "3.7.3"
  }
 },
 "nbformat": 4,
 "nbformat_minor": 2
}
